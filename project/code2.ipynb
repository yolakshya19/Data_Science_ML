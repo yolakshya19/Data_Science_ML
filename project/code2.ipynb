{
 "cells": [
  {
   "cell_type": "code",
   "execution_count": 1,
   "metadata": {},
   "outputs": [
    {
     "name": "stdout",
     "output_type": "stream",
     "text": [
      "Columns in train_df:\n",
      "Index(['T1', 'T2', 'T3', 'T4', 'T5', 'T6', 'T7', 'T8', 'T9', 'T10', 'T11',\n",
      "       'T12', 'T13', 'T14', 'T15', 'T16', 'T17', 'T18', 'target'],\n",
      "      dtype='object')\n",
      "\n",
      "Columns in test_df:\n",
      "Index(['T1', 'T2', 'T3', 'T4', 'T5', 'T6', 'T7', 'T8', 'T9', 'T10', 'T11',\n",
      "       'T12', 'T13', 'T14', 'T15', 'T16', 'T17', 'T18'],\n",
      "      dtype='object')\n"
     ]
    }
   ],
   "source": [
    "import pandas as pd\n",
    "\n",
    "# Load the training and test datasets\n",
    "train_df = pd.read_excel(\"train.xlsx\")\n",
    "test_df = pd.read_excel(\"test.xlsx\")\n",
    "\n",
    "# Inspect the data\n",
    "print(\"Columns in train_df:\")\n",
    "print(train_df.columns)\n",
    "\n",
    "print(\"\\nColumns in test_df:\")\n",
    "print(test_df.columns)"
   ]
  },
  {
   "cell_type": "code",
   "execution_count": 2,
   "metadata": {},
   "outputs": [],
   "source": [
    "# Separate features (X) and target variable (y)\n",
    "X_train = train_df.drop(columns=[\"target\"])\n",
    "y_train = train_df[\"target\"]\n",
    "\n",
    "X_test = test_df"
   ]
  },
  {
   "cell_type": "code",
   "execution_count": 3,
   "metadata": {},
   "outputs": [],
   "source": [
    "from sklearn.preprocessing import StandardScaler\n",
    "\n",
    "# Scale the data using the StandardScaler\n",
    "scaler = StandardScaler()\n",
    "X_train_scaled = scaler.fit_transform(X_train)\n",
    "X_test_scaled = scaler.transform(X_test)\n",
    "\n",
    "# Center the scaled data\n",
    "X_train_centered = X_train_scaled - X_train_scaled.mean(axis=0)\n",
    "X_test_centered = X_test_scaled - X_train_scaled.mean(axis=0)"
   ]
  },
  {
   "cell_type": "code",
   "execution_count": 4,
   "metadata": {},
   "outputs": [
    {
     "name": "stdout",
     "output_type": "stream",
     "text": [
      "K-Nearest Neighbors (KNN) Predicted Targets:\n",
      "['B74' 'A10' 'B65' ... 'B69' 'A38' 'A80']\n",
      "Train Accuracy (KNN): 0.989878101872007\n"
     ]
    }
   ],
   "source": [
    "from sklearn.neighbors import KNeighborsClassifier\n",
    "from sklearn.metrics import accuracy_score\n",
    "\n",
    "# Initialize the classifier\n",
    "clf_knn = KNeighborsClassifier(n_neighbors=5)\n",
    "\n",
    "# Train the classifier\n",
    "clf_knn.fit(X_train_centered, y_train)\n",
    "\n",
    "# Predict on the test data\n",
    "y_pred_knn = clf_knn.predict(X_test_centered)\n",
    "\n",
    "# Calculate train accuracy\n",
    "train_accuracy_knn = accuracy_score(y_train, clf_knn.predict(X_train_centered))\n",
    "\n",
    "# Print the predictions and accuracy\n",
    "print(\"K-Nearest Neighbors (KNN) Predicted Targets:\")\n",
    "print(y_pred_knn)\n",
    "print(f\"Train Accuracy (KNN): {train_accuracy_knn}\")"
   ]
  },
  {
   "cell_type": "code",
   "execution_count": 5,
   "metadata": {},
   "outputs": [
    {
     "name": "stdout",
     "output_type": "stream",
     "text": [
      "Decision Tree Predicted Targets:\n",
      "['B74' 'A10' 'B65' ... 'B69' 'A38' 'A80']\n",
      "Train Accuracy (Decision Tree): 0.9994286025250326\n"
     ]
    }
   ],
   "source": [
    "from sklearn.tree import DecisionTreeClassifier\n",
    "\n",
    "# Initialize the classifier\n",
    "clf_dt = DecisionTreeClassifier(random_state=42)\n",
    "\n",
    "# Train the classifier\n",
    "clf_dt.fit(X_train_centered, y_train)\n",
    "\n",
    "# Predict on the test data\n",
    "y_pred_dt = clf_dt.predict(X_test_centered)\n",
    "\n",
    "# Calculate train accuracy\n",
    "train_accuracy_dt = accuracy_score(y_train, clf_dt.predict(X_train_centered))\n",
    "\n",
    "# Print the predictions and accuracy\n",
    "print(\"Decision Tree Predicted Targets:\")\n",
    "print(y_pred_dt)\n",
    "print(f\"Train Accuracy (Decision Tree): {train_accuracy_dt}\")"
   ]
  },
  {
   "cell_type": "code",
   "execution_count": 6,
   "metadata": {},
   "outputs": [
    {
     "name": "stdout",
     "output_type": "stream",
     "text": [
      "Random Forest Predicted Targets:\n",
      "['B74' 'A10' 'B65' ... 'B69' 'A38' 'A80']\n",
      "Train Accuracy (Random Forest): 0.9994286025250326\n"
     ]
    }
   ],
   "source": [
    "from sklearn.ensemble import RandomForestClassifier\n",
    "\n",
    "# Initialize the classifier\n",
    "clf_rf = RandomForestClassifier(n_estimators=100, random_state=42)\n",
    "\n",
    "# Train the classifier\n",
    "clf_rf.fit(X_train_centered, y_train)\n",
    "\n",
    "# Predict on the test data\n",
    "y_pred_rf = clf_rf.predict(X_test_centered)\n",
    "\n",
    "# Calculate train accuracy\n",
    "train_accuracy_rf = accuracy_score(y_train, clf_rf.predict(X_train_centered))\n",
    "\n",
    "# Print the predictions and accuracy\n",
    "print(\"Random Forest Predicted Targets:\")\n",
    "print(y_pred_rf)\n",
    "print(f\"Train Accuracy (Random Forest): {train_accuracy_rf}\")"
   ]
  },
  {
   "cell_type": "code",
   "execution_count": 7,
   "metadata": {},
   "outputs": [
    {
     "name": "stdout",
     "output_type": "stream",
     "text": [
      "\n",
      "Train Accuracy and Predictions Summary:\n",
      "Train Accuracy (KNN): 0.989878101872007\n",
      "Train Accuracy (Decision Tree): 0.9994286025250326\n",
      "Train Accuracy (Random Forest): 0.9994286025250326\n",
      "\n",
      "Reasons for Choosing Algorithms:\n",
      "- KNN: Simple, non-parametric method suitable for multi-class classification.\n",
      "- Decision Tree: Interpretable model with non-linear decision boundaries.\n",
      "- Random Forest: Ensemble method that improves performance and reduces overfitting.\n"
     ]
    }
   ],
   "source": [
    "# Output predictions\n",
    "print(\"\\nTrain Accuracy and Predictions Summary:\")\n",
    "print(f\"Train Accuracy (KNN): {train_accuracy_knn}\")\n",
    "print(f\"Train Accuracy (Decision Tree): {train_accuracy_dt}\")\n",
    "print(f\"Train Accuracy (Random Forest): {train_accuracy_rf}\")\n",
    "\n",
    "# Save predictions to a file for submission\n",
    "test_df[\"Prediction_KNN\"] = y_pred_knn\n",
    "test_df[\"Prediction_DT\"] = y_pred_dt\n",
    "test_df[\"Prediction_RF\"] = y_pred_rf\n",
    "\n",
    "# Save the predictions to a new Excel file\n",
    "test_df.to_excel(\"predictions.xlsx\", index=False)\n",
    "\n",
    "# Reason for choosing algorithms\n",
    "print(\"\\nReasons for Choosing Algorithms:\")\n",
    "print(\"- KNN: Simple, non-parametric method suitable for multi-class classification.\")\n",
    "print(\"- Decision Tree: Interpretable model with non-linear decision boundaries.\")\n",
    "print(\n",
    "    \"- Random Forest: Ensemble method that improves performance and reduces overfitting.\"\n",
    ")"
   ]
  },
  {
   "cell_type": "code",
   "execution_count": null,
   "metadata": {},
   "outputs": [],
   "source": []
  }
 ],
 "metadata": {
  "kernelspec": {
   "display_name": "base",
   "language": "python",
   "name": "python3"
  },
  "language_info": {
   "codemirror_mode": {
    "name": "ipython",
    "version": 3
   },
   "file_extension": ".py",
   "mimetype": "text/x-python",
   "name": "python",
   "nbconvert_exporter": "python",
   "pygments_lexer": "ipython3",
   "version": "3.10.13"
  }
 },
 "nbformat": 4,
 "nbformat_minor": 2
}
