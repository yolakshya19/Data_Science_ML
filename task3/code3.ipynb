{
 "cells": [
  {
   "cell_type": "code",
   "execution_count": 10,
   "metadata": {},
   "outputs": [
    {
     "name": "stdout",
     "output_type": "stream",
     "text": [
      "        date      time  sensor location  number activity position location.1\n",
      "0 2024-01-16  10:10:30     0.0       A1       1   placed   inside         A1\n",
      "1 2024-01-16  10:12:30     1.0       A2       1   picked   inside         A2\n",
      "2 2024-01-16  10:28:30     1.0       A3       1   picked   Inside         A3\n",
      "3 2024-01-16  10:38:20     0.0       A4       1   placed   Inside         A4\n",
      "4 2024-01-16  10:45:20     1.0       A5       1   placed   inside         A5\n",
      "Index(['date', 'time', 'sensor', 'location', 'number', 'activity', 'position',\n",
      "       'location.1'],\n",
      "      dtype='object')\n"
     ]
    }
   ],
   "source": [
    "import pandas as pd\n",
    "\n",
    "# Load the data from the 'inputsheet' sheet\n",
    "df = pd.read_excel(\"rawdata.xlsx\", sheet_name=\"inputsheet\")\n",
    "\n",
    "# Display the first few rows and inspect the columns\n",
    "print(df.head())\n",
    "print(df.columns)"
   ]
  },
  {
   "cell_type": "code",
   "execution_count": 12,
   "metadata": {},
   "outputs": [
    {
     "name": "stdout",
     "output_type": "stream",
     "text": [
      "        date      time  sensor location  number activity position location.1\n",
      "0 2024-01-16  10:10:30     0.0       A1       1   placed   inside         A1\n",
      "1 2024-01-16  10:12:30     1.0       A2       1   picked   inside         A2\n",
      "2 2024-01-16  10:28:30     1.0       A3       1   picked   Inside         A3\n",
      "3 2024-01-16  10:38:20     0.0       A4       1   placed   Inside         A4\n",
      "4 2024-01-16  10:45:20     1.0       A5       1   placed   inside         A5\n"
     ]
    }
   ],
   "source": [
    "import pandas as pd\n",
    "\n",
    "# Load the data from the 'inputsheet' sheet\n",
    "df = pd.read_excel(\"rawdata.xlsx\", sheet_name=\"inputsheet\")\n",
    "\n",
    "# Convert 'date' column to datetime format\n",
    "df[\"date\"] = pd.to_datetime(df[\"date\"])\n",
    "\n",
    "# Display the first few rows to verify the changes\n",
    "print(df.head())"
   ]
  },
  {
   "cell_type": "code",
   "execution_count": 19,
   "metadata": {},
   "outputs": [
    {
     "name": "stdout",
     "output_type": "stream",
     "text": [
      "        date           Inside         Outside\n",
      "0 2024-01-16 10 days 03:09:10 0 days 00:00:00\n",
      "1 2024-01-17  9 days 00:47:50 0 days 00:00:00\n",
      "2 2024-01-18 42 days 05:19:42 2 days 15:31:30\n"
     ]
    }
   ],
   "source": [
    "import pandas as pd\n",
    "\n",
    "# Load the data from the 'inputsheet' sheet\n",
    "df = pd.read_excel(\"rawdata.xlsx\", sheet_name=\"inputsheet\")\n",
    "\n",
    "# Convert 'date' column to datetime format\n",
    "df[\"date\"] = pd.to_datetime(df[\"date\"])\n",
    "\n",
    "# Convert 'time' column to timedelta format\n",
    "df[\"time\"] = pd.to_timedelta(df[\"time\"].astype(str))\n",
    "\n",
    "# Filter rows with 'inside' and 'outside' positions\n",
    "inside_duration = (\n",
    "    df[df[\"position\"].str.lower() == \"inside\"].groupby(\"date\")[\"time\"].sum()\n",
    ")\n",
    "outside_duration = (\n",
    "    df[df[\"position\"].str.lower() == \"outside\"].groupby(\"date\")[\"time\"].sum()\n",
    ")\n",
    "\n",
    "# Create a DataFrame with the results\n",
    "datewise_duration = pd.DataFrame(\n",
    "    {\n",
    "        \"date\": df[\"date\"].unique(),\n",
    "        \"Inside\": inside_duration.reindex(\n",
    "            df[\"date\"].unique(), fill_value=pd.Timedelta(seconds=0)\n",
    "        ).values,\n",
    "        \"Outside\": outside_duration.reindex(\n",
    "            df[\"date\"].unique(), fill_value=pd.Timedelta(seconds=0)\n",
    "        ).values,\n",
    "    }\n",
    ")\n",
    "\n",
    "# Print the result to verify\n",
    "print(datewise_duration)"
   ]
  },
  {
   "cell_type": "code",
   "execution_count": 20,
   "metadata": {},
   "outputs": [
    {
     "name": "stdout",
     "output_type": "stream",
     "text": [
      "        date  Picking  Placing\n",
      "0 2024-01-16       40       40\n",
      "1 2024-01-17       10        9\n",
      "2 2024-01-18       37       39\n"
     ]
    }
   ],
   "source": [
    "# Filter rows with 'picked' and 'placed' activities\n",
    "picked_count = df[df[\"activity\"].str.lower() == \"picked\"].groupby(\"date\").size()\n",
    "placed_count = df[df[\"activity\"].str.lower() == \"placed\"].groupby(\"date\").size()\n",
    "\n",
    "# Create a DataFrame with the results\n",
    "datewise_activities = pd.DataFrame(\n",
    "    {\n",
    "        \"date\": df[\"date\"].unique(),\n",
    "        \"Picking\": picked_count.reindex(df[\"date\"].unique(), fill_value=0).values,\n",
    "        \"Placing\": placed_count.reindex(df[\"date\"].unique(), fill_value=0).values,\n",
    "    }\n",
    ")\n",
    "\n",
    "# Print the result to verify\n",
    "print(datewise_activities)"
   ]
  },
  {
   "cell_type": "code",
   "execution_count": 22,
   "metadata": {},
   "outputs": [
    {
     "name": "stdout",
     "output_type": "stream",
     "text": [
      "            pick_activities  place_activities   inside_duration  \\\n",
      "date                                                              \n",
      "01-16-2024               40                40  10 days 03:09:10   \n",
      "01-17-2024               10                 9   9 days 00:47:50   \n",
      "01-18-2024               37                39  42 days 05:19:42   \n",
      "\n",
      "           outside_duration  \n",
      "date                         \n",
      "01-16-2024  0 days 00:00:00  \n",
      "01-17-2024  0 days 00:00:00  \n",
      "01-18-2024  2 days 15:31:30  \n"
     ]
    }
   ],
   "source": [
    "# Convert timedelta to string format for easier display\n",
    "final_result[\"Inside\"] = final_result[\"Inside\"].astype(str)\n",
    "final_result[\"Outside\"] = final_result[\"Outside\"].astype(str)\n",
    "\n",
    "# Create a DataFrame in the desired format\n",
    "output_df = pd.DataFrame(\n",
    "    {\n",
    "        \"date\": final_result[\"date\"].dt.strftime(\"%m-%d-%Y\"),\n",
    "        \"pick_activities\": final_result[\"Picking\"],\n",
    "        \"place_activities\": final_result[\"Placing\"],\n",
    "        \"inside_duration\": final_result[\"Inside\"],\n",
    "        \"outside_duration\": final_result[\"Outside\"],\n",
    "    }\n",
    ")\n",
    "\n",
    "# Set 'date' as index\n",
    "output_df.set_index(\"date\", inplace=True)\n",
    "\n",
    "# Print the final output\n",
    "print(output_df)"
   ]
  },
  {
   "cell_type": "code",
   "execution_count": null,
   "metadata": {},
   "outputs": [],
   "source": []
  }
 ],
 "metadata": {
  "kernelspec": {
   "display_name": "RP_Env",
   "language": "python",
   "name": "python3"
  },
  "language_info": {
   "codemirror_mode": {
    "name": "ipython",
    "version": 3
   },
   "file_extension": ".py",
   "mimetype": "text/x-python",
   "name": "python",
   "nbconvert_exporter": "python",
   "pygments_lexer": "ipython3",
   "version": "3.10.13"
  }
 },
 "nbformat": 4,
 "nbformat_minor": 2
}
